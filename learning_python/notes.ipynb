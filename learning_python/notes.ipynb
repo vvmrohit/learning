{
 "cells": [
  {
   "attachments": {},
   "cell_type": "markdown",
   "metadata": {},
   "source": [
    "Randomisation\n",
    "First of all we need to import random module in our code."
   ]
  },
  {
   "cell_type": "code",
   "execution_count": 11,
   "metadata": {},
   "outputs": [
    {
     "name": "stdout",
     "output_type": "stream",
     "text": [
      "8\n"
     ]
    }
   ],
   "source": [
    "import random\n",
    "random_integer = random.randint(0,10)\n",
    "print(random_integer)"
   ]
  },
  {
   "cell_type": "code",
   "execution_count": 32,
   "metadata": {},
   "outputs": [
    {
     "name": "stdout",
     "output_type": "stream",
     "text": [
      "[11, 19, 10, 14, 15, 18]\n",
      "<class 'list'>\n",
      "[10, 11, 14, 15, 18, 19]\n",
      "[19, 18, 15, 14, 11, 10]\n",
      "[10, 11, 14, 15, 18, 19]\n",
      "11\n",
      "4\n",
      "1\n",
      "[10, 899, 11, 14, 15, 18, 19]\n",
      "['a', 'b', 'c', 'd', 'e']\n",
      "[10, 899, 11, 14, 15, 18, 19, 'a', 'b', 'c', 'd', 'e']\n"
     ]
    }
   ],
   "source": [
    "l = [11,19,10,14,15]\n",
    "l.append(18)\n",
    "print(l)\n",
    "print(type(l))\n",
    "l.sort()\n",
    "print(l)\n",
    "l.sort(reverse=True)\n",
    "print(l)\n",
    "l.reverse()\n",
    "print(l)\n",
    "print(l[1])\n",
    "print(l.index(18))\n",
    "print(l.count(18))\n",
    "l.insert(1,899)\n",
    "print(l)\n",
    "m = ['a','b','c','d','e']\n",
    "print(m)\n",
    "l.extend(m)\n",
    "print(l)"
   ]
  },
  {
   "attachments": {},
   "cell_type": "markdown",
   "metadata": {},
   "source": [
    "Tuple\n"
   ]
  },
  {
   "cell_type": "code",
   "execution_count": 37,
   "metadata": {},
   "outputs": [
    {
     "ename": "SyntaxError",
     "evalue": "cannot assign to function call (2568317982.py, line 4)",
     "output_type": "error",
     "traceback": [
      "\u001b[0;36m  Cell \u001b[0;32mIn[37], line 4\u001b[0;36m\u001b[0m\n\u001b[0;31m    tup(1) = 2\u001b[0m\n\u001b[0m    ^\u001b[0m\n\u001b[0;31mSyntaxError\u001b[0m\u001b[0;31m:\u001b[0m cannot assign to function call\n"
     ]
    }
   ],
   "source": [
    "tup = (1,2,3,4)\n",
    "\n",
    "tup(1) = 2\n"
   ]
  },
  {
   "cell_type": "code",
   "execution_count": 43,
   "metadata": {},
   "outputs": [
    {
     "name": "stdout",
     "output_type": "stream",
     "text": [
      "(11, 15, 10, 80, 150, 45)\n",
      "<class 'tuple'>\n",
      "11\n",
      "45\n",
      "6\n",
      "(15, 10, 80)\n",
      "11\n",
      "15\n",
      "10\n",
      "80\n",
      "150\n",
      "45\n"
     ]
    }
   ],
   "source": [
    "tup = (11,15,10,80,150,45)\n",
    "print(tup)\n",
    "print(type(tup))\n",
    "print(tup[0])\n",
    "print(tup[-1])\n",
    "print(len(tup))\n",
    "tup2 = tup[1:4]\n",
    "print(tup2)\n",
    "for i in tup:\n",
    "    print(i)\n",
    "\n"
   ]
  },
  {
   "attachments": {},
   "cell_type": "markdown",
   "metadata": {},
   "source": [
    "Fstring\n"
   ]
  },
  {
   "cell_type": "code",
   "execution_count": 45,
   "metadata": {},
   "outputs": [
    {
     "name": "stdout",
     "output_type": "stream",
     "text": [
      "My name is Rohit and I am from India\n"
     ]
    }
   ],
   "source": [
    "letter = \"My name is {} and I am from {}\"\n",
    "country = \"India\"\n",
    "name = \"Rohit\"\n",
    "print(letter.format(name,country))\n"
   ]
  },
  {
   "cell_type": "code",
   "execution_count": 47,
   "metadata": {},
   "outputs": [
    {
     "name": "stdout",
     "output_type": "stream",
     "text": [
      "My name is Rohit and I am from India\n"
     ]
    }
   ],
   "source": [
    "letter = \"My name is {0} and I am from {1}\"\n",
    "country = \"India\"\n",
    "name = \"Rohit\"\n",
    "print(letter.format(name,country))"
   ]
  },
  {
   "cell_type": "code",
   "execution_count": 48,
   "metadata": {},
   "outputs": [
    {
     "name": "stdout",
     "output_type": "stream",
     "text": [
      "My name is Rohit and I am from India\n"
     ]
    }
   ],
   "source": [
    "letter = \"My name is {1} and I am from {0}\"\n",
    "country = \"India\"\n",
    "name = \"Rohit\"\n",
    "print(letter.format(country,name))"
   ]
  },
  {
   "cell_type": "code",
   "execution_count": 49,
   "metadata": {},
   "outputs": [
    {
     "name": "stdout",
     "output_type": "stream",
     "text": [
      "My name is Rohit and I am from India\n"
     ]
    }
   ],
   "source": [
    "country = \"India\"\n",
    "name = \"Rohit\"\n",
    "print(f\"My name is {name} and I am from {country}\")"
   ]
  },
  {
   "cell_type": "code",
   "execution_count": 51,
   "metadata": {},
   "outputs": [
    {
     "name": "stdout",
     "output_type": "stream",
     "text": [
      "Price of foode is 78.999994546\n",
      "price of food is 79.00\n",
      "Price of foode is {price}\n"
     ]
    }
   ],
   "source": [
    "price = 78.999994546\n",
    "print(f\"Price of foode is {price}\")\n",
    "print(f\"price of food is {price:.2f}\")\n",
    "print(f\"Price of foode is {{price}}\")"
   ]
  },
  {
   "attachments": {},
   "cell_type": "markdown",
   "metadata": {},
   "source": [
    "#DOCSTRING\n",
    "\n",
    "Python doesnot igrnore docstring like comments.\n",
    "\n",
    "We add this just after the function,class etc declaration. They can't be written anywhere else or they will be treated as comments"
   ]
  },
  {
   "cell_type": "code",
   "execution_count": 52,
   "metadata": {},
   "outputs": [
    {
     "name": "stdout",
     "output_type": "stream",
     "text": [
      "Take a number n and returns the square of the number n\n"
     ]
    }
   ],
   "source": [
    "def square(n):\n",
    "    '''Take a number n and returns the square of the number n'''\n",
    "    return n*n\n",
    "\n",
    "print(square.__doc__)\n"
   ]
  },
  {
   "attachments": {},
   "cell_type": "markdown",
   "metadata": {},
   "source": [
    "PEP8\n",
    "\n",
    "The primary focus of PEP 8 is to improve the readablitliy and consistency of python code."
   ]
  },
  {
   "attachments": {},
   "cell_type": "markdown",
   "metadata": {},
   "source": [
    "#RECURSION"
   ]
  },
  {
   "cell_type": "code",
   "execution_count": 57,
   "metadata": {},
   "outputs": [
    {
     "name": "stdout",
     "output_type": "stream",
     "text": [
      "5040\n"
     ]
    }
   ],
   "source": [
    "def factorial(n):\n",
    "    if n==0 or n==1:\n",
    "        return 1\n",
    "    return n*(factorial(n-1))\n",
    "\n",
    "print(factorial(7))"
   ]
  },
  {
   "cell_type": "markdown",
   "metadata": {},
   "source": []
  }
 ],
 "metadata": {
  "kernelspec": {
   "display_name": "Python 3",
   "language": "python",
   "name": "python3"
  },
  "language_info": {
   "codemirror_mode": {
    "name": "ipython",
    "version": 3
   },
   "file_extension": ".py",
   "mimetype": "text/x-python",
   "name": "python",
   "nbconvert_exporter": "python",
   "pygments_lexer": "ipython3",
   "version": "3.8.10"
  },
  "orig_nbformat": 4,
  "vscode": {
   "interpreter": {
    "hash": "916dbcbb3f70747c44a77c7bcd40155683ae19c65e1c03b4aa3499c5328201f1"
   }
  }
 },
 "nbformat": 4,
 "nbformat_minor": 2
}
