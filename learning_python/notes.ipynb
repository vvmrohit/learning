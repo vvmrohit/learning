{
  "cells": [
    {
      "cell_type": "markdown",
      "metadata": {
        "id": "Buq1UDPIVqKA"
      },
      "source": [
        "Randomisation\n",
        "First of all we need to import random module in our code."
      ]
    },
    {
      "cell_type": "code",
      "execution_count": null,
      "metadata": {
        "id": "-0oJBEGsVqKF",
        "outputId": "fa194376-d92e-42ba-fac9-137a6c578011"
      },
      "outputs": [
        {
          "name": "stdout",
          "output_type": "stream",
          "text": [
            "8\n"
          ]
        }
      ],
      "source": [
        "import random\n",
        "random_integer = random.randint(0,10)\n",
        "print(random_integer)"
      ]
    },
    {
      "cell_type": "code",
      "execution_count": null,
      "metadata": {
        "id": "UeYfsxF5VqKJ",
        "outputId": "6580873f-d53a-444d-fc63-d3f22b25bd69"
      },
      "outputs": [
        {
          "name": "stdout",
          "output_type": "stream",
          "text": [
            "[11, 19, 10, 14, 15, 18]\n",
            "<class 'list'>\n",
            "[10, 11, 14, 15, 18, 19]\n",
            "[19, 18, 15, 14, 11, 10]\n",
            "[10, 11, 14, 15, 18, 19]\n",
            "11\n",
            "4\n",
            "1\n",
            "[10, 899, 11, 14, 15, 18, 19]\n",
            "['a', 'b', 'c', 'd', 'e']\n",
            "[10, 899, 11, 14, 15, 18, 19, 'a', 'b', 'c', 'd', 'e']\n"
          ]
        }
      ],
      "source": [
        "l = [11,19,10,14,15]\n",
        "l.append(18)\n",
        "print(l)\n",
        "print(type(l))\n",
        "l.sort()\n",
        "print(l)\n",
        "l.sort(reverse=True)\n",
        "print(l)\n",
        "l.reverse()\n",
        "print(l)\n",
        "print(l[1])\n",
        "print(l.index(18))\n",
        "print(l.count(18))\n",
        "l.insert(1,899)\n",
        "print(l)\n",
        "m = ['a','b','c','d','e']\n",
        "print(m)\n",
        "l.extend(m)\n",
        "print(l)"
      ]
    },
    {
      "cell_type": "markdown",
      "metadata": {
        "id": "Q5jMEzB-VqKN"
      },
      "source": [
        "Tuple\n"
      ]
    },
    {
      "cell_type": "code",
      "execution_count": null,
      "metadata": {
        "id": "DS5in8J0VqKP",
        "outputId": "caee2de8-83ff-4484-cf27-7726bdf48b38"
      },
      "outputs": [
        {
          "ename": "SyntaxError",
          "evalue": "cannot assign to function call (2568317982.py, line 4)",
          "output_type": "error",
          "traceback": [
            "\u001b[0;36m  Cell \u001b[0;32mIn[37], line 4\u001b[0;36m\u001b[0m\n\u001b[0;31m    tup(1) = 2\u001b[0m\n\u001b[0m    ^\u001b[0m\n\u001b[0;31mSyntaxError\u001b[0m\u001b[0;31m:\u001b[0m cannot assign to function call\n"
          ]
        }
      ],
      "source": [
        "tup = (1,2,3,4)\n",
        "\n",
        "tup(1) = 2\n"
      ]
    },
    {
      "cell_type": "code",
      "execution_count": null,
      "metadata": {
        "id": "DsZ9ctwTVqKR",
        "outputId": "15ddb430-5b91-4891-dd01-51b1137dd39f"
      },
      "outputs": [
        {
          "name": "stdout",
          "output_type": "stream",
          "text": [
            "(11, 15, 10, 80, 150, 45)\n",
            "<class 'tuple'>\n",
            "11\n",
            "45\n",
            "6\n",
            "(15, 10, 80)\n",
            "11\n",
            "15\n",
            "10\n",
            "80\n",
            "150\n",
            "45\n"
          ]
        }
      ],
      "source": [
        "tup = (11,15,10,80,150,45)\n",
        "print(tup)\n",
        "print(type(tup))\n",
        "print(tup[0])\n",
        "print(tup[-1])\n",
        "print(len(tup))\n",
        "tup2 = tup[1:4]\n",
        "print(tup2)\n",
        "for i in tup:\n",
        "    print(i)\n",
        "\n"
      ]
    },
    {
      "cell_type": "markdown",
      "metadata": {
        "id": "GPCEYeZRVqKU"
      },
      "source": [
        "Fstring\n"
      ]
    },
    {
      "cell_type": "code",
      "execution_count": null,
      "metadata": {
        "id": "S-Owq3TWVqKV",
        "outputId": "c7cca590-229b-4ccb-b2c4-7ebf86deed23"
      },
      "outputs": [
        {
          "name": "stdout",
          "output_type": "stream",
          "text": [
            "My name is Rohit and I am from India\n"
          ]
        }
      ],
      "source": [
        "letter = \"My name is {} and I am from {}\"\n",
        "country = \"India\"\n",
        "name = \"Rohit\"\n",
        "print(letter.format(name,country))\n"
      ]
    },
    {
      "cell_type": "code",
      "execution_count": null,
      "metadata": {
        "id": "3sHldxfnVqKX",
        "outputId": "79b8f891-2868-4ea4-d2ed-1cf27a4f8532"
      },
      "outputs": [
        {
          "name": "stdout",
          "output_type": "stream",
          "text": [
            "My name is Rohit and I am from India\n"
          ]
        }
      ],
      "source": [
        "letter = \"My name is {0} and I am from {1}\"\n",
        "country = \"India\"\n",
        "name = \"Rohit\"\n",
        "print(letter.format(name,country))"
      ]
    },
    {
      "cell_type": "code",
      "execution_count": null,
      "metadata": {
        "id": "caJaZeNeVqKZ",
        "outputId": "4f10d60b-38dc-4292-c549-0066cd4425c7"
      },
      "outputs": [
        {
          "name": "stdout",
          "output_type": "stream",
          "text": [
            "My name is Rohit and I am from India\n"
          ]
        }
      ],
      "source": [
        "letter = \"My name is {1} and I am from {0}\"\n",
        "country = \"India\"\n",
        "name = \"Rohit\"\n",
        "print(letter.format(country,name))"
      ]
    },
    {
      "cell_type": "code",
      "execution_count": null,
      "metadata": {
        "id": "3QogdLQIVqKa",
        "outputId": "de2932c6-4301-47de-fc95-31bf816581aa"
      },
      "outputs": [
        {
          "name": "stdout",
          "output_type": "stream",
          "text": [
            "My name is Rohit and I am from India\n"
          ]
        }
      ],
      "source": [
        "country = \"India\"\n",
        "name = \"Rohit\"\n",
        "print(f\"My name is {name} and I am from {country}\")"
      ]
    },
    {
      "cell_type": "code",
      "execution_count": null,
      "metadata": {
        "id": "qtZ4FH4XVqKc",
        "outputId": "e3307a37-d91a-4bbd-e9a9-18fabdd33ba6"
      },
      "outputs": [
        {
          "name": "stdout",
          "output_type": "stream",
          "text": [
            "Price of foode is 78.999994546\n",
            "price of food is 79.00\n",
            "Price of foode is {price}\n"
          ]
        }
      ],
      "source": [
        "price = 78.999994546\n",
        "print(f\"Price of foode is {price}\")\n",
        "print(f\"price of food is {price:.2f}\")\n",
        "print(f\"Price of foode is {{price}}\")"
      ]
    },
    {
      "cell_type": "markdown",
      "metadata": {
        "id": "pTGF7j6jVqKd"
      },
      "source": [
        "#DOCSTRING\n",
        "\n",
        "Python doesnot igrnore docstring like comments.\n",
        "\n",
        "We add this just after the function,class etc declaration. They can't be written anywhere else or they will be treated as comments"
      ]
    },
    {
      "cell_type": "code",
      "execution_count": null,
      "metadata": {
        "id": "W7ASX7sSVqKe",
        "outputId": "0934a50d-9895-4b3a-bf55-728fe6b585ee"
      },
      "outputs": [
        {
          "name": "stdout",
          "output_type": "stream",
          "text": [
            "Take a number n and returns the square of the number n\n"
          ]
        }
      ],
      "source": [
        "def square(n):\n",
        "    '''Take a number n and returns the square of the number n'''\n",
        "    return n*n\n",
        "\n",
        "print(square.__doc__)\n"
      ]
    },
    {
      "cell_type": "markdown",
      "metadata": {
        "id": "j5mMJuLgVqKf"
      },
      "source": [
        "PEP8\n",
        "\n",
        "The primary focus of PEP 8 is to improve the readablitliy and consistency of python code."
      ]
    },
    {
      "cell_type": "markdown",
      "metadata": {
        "id": "yMqkeLbtVqKf"
      },
      "source": [
        "#RECURSION"
      ]
    },
    {
      "cell_type": "code",
      "execution_count": null,
      "metadata": {
        "id": "h3vYVoKEVqKp",
        "outputId": "83d1f3b9-5825-4dbb-fbfa-8125f40715c1"
      },
      "outputs": [
        {
          "name": "stdout",
          "output_type": "stream",
          "text": [
            "5040\n"
          ]
        }
      ],
      "source": [
        "def factorial(n):\n",
        "    if n==0 or n==1:\n",
        "        return 1\n",
        "    return n*(factorial(n-1))\n",
        "\n",
        "print(factorial(7))"
      ]
    },
    {
      "cell_type": "markdown",
      "metadata": {
        "id": "8O20tLRCVqKr"
      },
      "source": []
    },
    {
      "cell_type": "code",
      "execution_count": null,
      "metadata": {
        "id": "jEZAtARCVqKr",
        "outputId": "ab0cfea2-5f73-4c18-dc7c-96b861c6cc12"
      },
      "outputs": [
        {
          "data": {
            "text/plain": [
              "'Hello this is the first line\\nHello this is the second line\\nHello htis is the third line'"
            ]
          },
          "execution_count": 11,
          "metadata": {},
          "output_type": "execute_result"
        }
      ],
      "source": [
        "myfiles = open('Basics/test.txt')\n",
        "myfiles.read()"
      ]
    },
    {
      "cell_type": "code",
      "execution_count": null,
      "metadata": {
        "id": "Lus4WXV0VqKr",
        "outputId": "0a70a741-79a4-49b0-8cf8-fc6916fd1169"
      },
      "outputs": [
        {
          "data": {
            "text/plain": [
              "''"
            ]
          },
          "execution_count": 3,
          "metadata": {},
          "output_type": "execute_result"
        }
      ],
      "source": [
        "myfiles.read()"
      ]
    },
    {
      "cell_type": "code",
      "execution_count": null,
      "metadata": {
        "id": "afkEQxDWVqKs",
        "outputId": "8e5f3e92-8f8b-47c0-8079-f5c376ef6199"
      },
      "outputs": [
        {
          "data": {
            "text/plain": [
              "'Hello this is the first line\\nHello this is the second line\\nHello htis is the third line'"
            ]
          },
          "execution_count": 4,
          "metadata": {},
          "output_type": "execute_result"
        }
      ],
      "source": [
        "myfiles.seek(0)\n",
        "myfiles.read()"
      ]
    },
    {
      "cell_type": "code",
      "execution_count": null,
      "metadata": {
        "id": "zpAG_rYAVqKs",
        "outputId": "edb0436a-77d4-4054-bfa0-7747d091a049"
      },
      "outputs": [
        {
          "data": {
            "text/plain": [
              "'Hello this is the first line\\n'"
            ]
          },
          "execution_count": 5,
          "metadata": {},
          "output_type": "execute_result"
        }
      ],
      "source": [
        "myfiles.seek(0)\n",
        "myfiles.readline()"
      ]
    },
    {
      "cell_type": "code",
      "execution_count": null,
      "metadata": {
        "id": "FPxFJtQOVqKt",
        "outputId": "c4e58202-e6ed-4c1e-f01f-5460799fabb9"
      },
      "outputs": [
        {
          "data": {
            "text/plain": [
              "['Hello this is the first line\\n',\n",
              " 'Hello this is the second line\\n',\n",
              " 'Hello htis is the third line']"
            ]
          },
          "execution_count": 12,
          "metadata": {},
          "output_type": "execute_result"
        }
      ],
      "source": [
        "myfiles.seek(0)\n",
        "myfiles.readlines()\n"
      ]
    },
    {
      "cell_type": "code",
      "execution_count": null,
      "metadata": {
        "id": "OuqyfudjVqKu"
      },
      "outputs": [],
      "source": [
        "myfiles.close()"
      ]
    },
    {
      "cell_type": "code",
      "execution_count": null,
      "metadata": {
        "id": "sbbKUOlhVqKu"
      },
      "outputs": [],
      "source": [
        "with open('Basics/test.txt') as my_new_file:\n",
        "    contents = my_new_file.read()"
      ]
    },
    {
      "cell_type": "code",
      "execution_count": null,
      "metadata": {
        "id": "jzqVLNkPVqKv",
        "outputId": "99d9e06a-e957-47ae-fdff-7466fc34ef97"
      },
      "outputs": [
        {
          "data": {
            "text/plain": [
              "'Hello this is the first line\\nHello this is the second line\\nHello htis is the third line'"
            ]
          },
          "execution_count": 15,
          "metadata": {},
          "output_type": "execute_result"
        }
      ],
      "source": [
        "contents"
      ]
    },
    {
      "cell_type": "code",
      "execution_count": null,
      "metadata": {
        "id": "qPsGxPRdVqKv"
      },
      "outputs": [],
      "source": [
        "with open('Basics/test.txt',mode='a') as my_edited_file:\n",
        "    my_edited_file.write(\"\\nThis is the fourth line\")\n"
      ]
    },
    {
      "cell_type": "code",
      "execution_count": null,
      "metadata": {
        "id": "xXS6ye3uVqKw"
      },
      "outputs": [],
      "source": [
        "with open('Basics/test.txt',mode='a') as my_edited_file:\n",
        "    my_edited_file.write(\"\\nThis is the fourth line\")\n"
      ]
    },
    {
      "cell_type": "code",
      "execution_count": null,
      "metadata": {
        "id": "HTT2k8LeVqKx",
        "outputId": "e865a632-bfe8-4158-bc26-d42b74033ba6"
      },
      "outputs": [
        {
          "name": "stdout",
          "output_type": "stream",
          "text": [
            "The value of x is 0\n",
            "The value of x is 1\n",
            "The value of x is 2\n",
            "The value of x is 3\n",
            "The value of x is 4\n",
            "X is not less than 5\n"
          ]
        }
      ],
      "source": [
        "x = 0\n",
        "while x <5:\n",
        "    print(f'The value of x is {x}')\n",
        "    x +=1\n",
        "else:\n",
        "    print('X is not less than 5')\n"
      ]
    },
    {
      "cell_type": "code",
      "execution_count": null,
      "metadata": {
        "id": "P5iL23p_VqKy",
        "outputId": "e646101a-82e4-4b57-e2ad-70963230bd37"
      },
      "outputs": [
        {
          "name": "stdout",
          "output_type": "stream",
          "text": [
            "1\n",
            "2\n",
            "3\n",
            "4\n",
            "5\n",
            "6\n",
            "7\n",
            "8\n"
          ]
        }
      ],
      "source": [
        "my_list = [1,2,3,4,5,6,7,8]\n",
        "for i in my_list:\n",
        "    print(i)"
      ]
    },
    {
      "cell_type": "code",
      "execution_count": null,
      "metadata": {
        "id": "lzSV38hzVqKz",
        "outputId": "aacb51e0-1fe2-4746-d625-83005a3f8a6e"
      },
      "outputs": [
        {
          "name": "stdout",
          "output_type": "stream",
          "text": [
            "1\n",
            "2\n",
            "3\n"
          ]
        }
      ],
      "source": [
        "tup = (1,2,3)\n",
        "for x in tup:\n",
        "    print(x)"
      ]
    },
    {
      "cell_type": "code",
      "execution_count": null,
      "metadata": {
        "id": "tfp0X3hkVqK0",
        "outputId": "8d1e933a-5a03-4d3a-9ed3-e43b00b4c7c9"
      },
      "outputs": [
        {
          "name": "stdout",
          "output_type": "stream",
          "text": [
            "1\n",
            "2\n",
            "3\n",
            "4\n",
            "5\n",
            "6\n",
            "7\n",
            "8\n"
          ]
        }
      ],
      "source": [
        "mylist = [(1,2),(3,4),(5,6),(7,8)]\n",
        "for a,b in mylist:\n",
        "    print(a)\n",
        "    print(b)"
      ]
    },
    {
      "cell_type": "code",
      "execution_count": null,
      "metadata": {
        "id": "AAzeXZyuVqK1",
        "outputId": "387edec7-bdd3-4d66-f801-8efefe2163f4"
      },
      "outputs": [
        {
          "name": "stdout",
          "output_type": "stream",
          "text": [
            "(1, 2)\n",
            "(3, 4)\n",
            "(5, 6)\n",
            "(7, 8)\n"
          ]
        }
      ],
      "source": [
        "mylist = [(1,2),(3,4),(5,6),(7,8)]\n",
        "for x in mylist:\n",
        "    print(x)"
      ]
    },
    {
      "cell_type": "code",
      "execution_count": null,
      "metadata": {
        "id": "26O3OAYaVqK2",
        "outputId": "8e2a5cbb-6178-43ba-d911-db72ff3e1e08"
      },
      "outputs": [
        {
          "name": "stdout",
          "output_type": "stream",
          "text": [
            "2\n",
            "4\n",
            "6\n",
            "8\n"
          ]
        }
      ],
      "source": [
        "mylist = [(1,2),(3,4),(5,6),(7,8)]\n",
        "for a,b in mylist:\n",
        "    print(b)"
      ]
    },
    {
      "cell_type": "code",
      "execution_count": null,
      "metadata": {
        "id": "llW8DYvyVqK3",
        "outputId": "7861bda3-7961-4818-d2cf-a96fd22cd95d"
      },
      "outputs": [
        {
          "name": "stdout",
          "output_type": "stream",
          "text": [
            "k1\n",
            "k2\n",
            "k3\n"
          ]
        }
      ],
      "source": [
        "dict = {'k1':1,'k2':2,'k3':3}\n",
        "\n",
        "for item in dict:\n",
        "    print(item)"
      ]
    },
    {
      "cell_type": "code",
      "execution_count": null,
      "metadata": {
        "id": "KwWsi7M3VqK4",
        "outputId": "edd297a7-6393-4257-d682-4d6b99228c23"
      },
      "outputs": [
        {
          "name": "stdout",
          "output_type": "stream",
          "text": [
            "('k1', 1)\n",
            "('k2', 2)\n",
            "('k3', 3)\n"
          ]
        }
      ],
      "source": [
        "dict = {'k1':1,'k2':2,'k3':3}\n",
        "\n",
        "for item in dict.items():\n",
        "    print(item)"
      ]
    },
    {
      "cell_type": "code",
      "execution_count": null,
      "metadata": {
        "id": "mhIvpWbGVqK4",
        "outputId": "d8a1505f-57fc-4974-ffb9-88e7b3cd3a90"
      },
      "outputs": [
        {
          "name": "stdout",
          "output_type": "stream",
          "text": [
            "1\n",
            "2\n",
            "3\n"
          ]
        }
      ],
      "source": [
        "dict = {'k1':1,'k2':2,'k3':3}\n",
        "\n",
        "for key,value in dict.items():\n",
        "    print(value)"
      ]
    },
    {
      "cell_type": "code",
      "execution_count": null,
      "metadata": {
        "id": "gBebjmMoVqK4",
        "outputId": "e0af942b-d342-42bb-920e-4409f4ba3427"
      },
      "outputs": [
        {
          "name": "stdout",
          "output_type": "stream",
          "text": [
            "0\n",
            "1\n",
            "2\n",
            "3\n",
            "4\n",
            "5\n",
            "6\n",
            "7\n",
            "8\n",
            "9\n"
          ]
        }
      ],
      "source": [
        "for num in range(10):\n",
        "    print(num)"
      ]
    },
    {
      "cell_type": "code",
      "execution_count": null,
      "metadata": {
        "id": "kJNmP4uuVqK5",
        "outputId": "1f55a261-1654-4151-ee89-60fec03556c0"
      },
      "outputs": [
        {
          "name": "stdout",
          "output_type": "stream",
          "text": [
            "1\n",
            "2\n",
            "3\n",
            "4\n",
            "5\n",
            "6\n",
            "7\n",
            "8\n",
            "9\n",
            "10\n"
          ]
        }
      ],
      "source": [
        "for num in range(1,11):\n",
        "    print(num)"
      ]
    },
    {
      "cell_type": "code",
      "execution_count": null,
      "metadata": {
        "id": "5AIYi6uXVqK6",
        "outputId": "306a45ca-ef67-45d1-eec6-d9a71f873ae9"
      },
      "outputs": [
        {
          "name": "stdout",
          "output_type": "stream",
          "text": [
            "1\n",
            "3\n",
            "5\n",
            "7\n",
            "9\n"
          ]
        }
      ],
      "source": [
        "for num in range(1,11,2):\n",
        "    print(num)"
      ]
    },
    {
      "cell_type": "code",
      "execution_count": null,
      "metadata": {
        "id": "H6BCLm5yVqK7",
        "outputId": "bc9dfd81-dcd0-4bcf-830c-32583731ff4e"
      },
      "outputs": [
        {
          "name": "stdout",
          "output_type": "stream",
          "text": [
            "(0, 'a')\n",
            "(1, 'b')\n",
            "(2, 'c')\n",
            "(3, 'd')\n",
            "(4, 'e')\n"
          ]
        }
      ],
      "source": [
        "word = 'abcde'\n",
        "\n",
        "for letter in enumerate(word):\n",
        "    print(letter)\n"
      ]
    },
    {
      "cell_type": "code",
      "execution_count": null,
      "metadata": {
        "id": "TMocfbryVqK7",
        "outputId": "dcfe79a8-3175-4a78-a378-13149b74d24e"
      },
      "outputs": [
        {
          "name": "stdout",
          "output_type": "stream",
          "text": [
            "a 0\n",
            "b 1\n",
            "c 2\n",
            "d 3\n",
            "e 4\n"
          ]
        }
      ],
      "source": [
        "word = 'abcde'\n",
        "\n",
        "for index,letter in enumerate(word):\n",
        "    print(letter,index)\n"
      ]
    },
    {
      "cell_type": "code",
      "execution_count": null,
      "metadata": {
        "id": "1NFQ1rCuVqK8",
        "outputId": "de698604-7ca4-42f2-b95a-0e37a5a898d5"
      },
      "outputs": [
        {
          "name": "stdout",
          "output_type": "stream",
          "text": [
            "(1, 'a')\n",
            "(2, 'b')\n",
            "(3, 'c')\n"
          ]
        }
      ],
      "source": [
        "ml = [1,2,3,4]\n",
        "al = ['a','b','c']\n",
        "\n",
        "for item in zip(ml,al):\n",
        "    print(item)"
      ]
    },
    {
      "cell_type": "code",
      "execution_count": null,
      "metadata": {
        "id": "frA3cJm1VqK8",
        "outputId": "f20ec36a-f400-4274-e361-eb0dd9b85a20"
      },
      "outputs": [
        {
          "name": "stdout",
          "output_type": "stream",
          "text": [
            "[0, 4, 16, 36, 64, 100]\n"
          ]
        }
      ],
      "source": [
        "mylist = [n**2 for n in range(0,11,2)]\n",
        "print(mylist)"
      ]
    },
    {
      "cell_type": "code",
      "execution_count": null,
      "metadata": {
        "id": "TB7aEgaRVqK-",
        "outputId": "41d565ec-a2db-46fe-8698-255daf7d6814"
      },
      "outputs": [
        {
          "name": "stdout",
          "output_type": "stream",
          "text": [
            "[0, 4, 16, 36, 64, 100]\n"
          ]
        }
      ],
      "source": [
        "mylist = [n**2 for n in range(0,11) if n%2==0]\n",
        "print(mylist)"
      ]
    },
    {
      "cell_type": "code",
      "execution_count": null,
      "metadata": {
        "id": "TDFlkYxQVqK_",
        "outputId": "30a2ab4b-95d2-4258-de28-7f75a1c34eb1"
      },
      "outputs": [
        {
          "name": "stdout",
          "output_type": "stream",
          "text": [
            "33.0\n"
          ]
        }
      ],
      "source": [
        "def myfunct(*args):\n",
        "    return sum(args)/len(args)\n",
        "\n",
        "print(myfunct(5,8,15,40,97))"
      ]
    },
    {
      "cell_type": "code",
      "execution_count": null,
      "metadata": {
        "id": "mQ-1dy2tVqLA",
        "outputId": "5f3c6c92-b404-4901-dc22-80ba1e4489fd"
      },
      "outputs": [
        {
          "data": {
            "text/plain": [
              "<map at 0x7fc0e81e2f40>"
            ]
          },
          "execution_count": 40,
          "metadata": {},
          "output_type": "execute_result"
        }
      ],
      "source": [
        "def myfunc(n):\n",
        "    return n*n\n",
        "my_nums = [1,2,3,4,5]\n",
        "map(myfunc,my_nums)"
      ]
    },
    {
      "cell_type": "code",
      "execution_count": null,
      "metadata": {
        "id": "51JBKEoOVqLA",
        "outputId": "bfa5e15d-e3ef-46b2-9fe2-5d9050cf03b7"
      },
      "outputs": [
        {
          "name": "stdout",
          "output_type": "stream",
          "text": [
            "1\n",
            "4\n",
            "9\n",
            "16\n",
            "25\n"
          ]
        }
      ],
      "source": [
        "def myfunc(n):\n",
        "    return n*n\n",
        "my_nums = [1,2,3,4,5]\n",
        "for n in map(myfunc,my_nums):\n",
        "    print(n)"
      ]
    },
    {
      "cell_type": "code",
      "execution_count": null,
      "metadata": {
        "id": "lN8ks5IvVqLB"
      },
      "outputs": [],
      "source": [
        "square = lambda num: num**2"
      ]
    },
    {
      "cell_type": "code",
      "execution_count": null,
      "metadata": {
        "id": "VM0WP-7SVqLB",
        "outputId": "e0720d02-dc91-4c21-cc7e-64d68f281a56"
      },
      "outputs": [
        {
          "data": {
            "text/plain": [
              "25"
            ]
          },
          "execution_count": 45,
          "metadata": {},
          "output_type": "execute_result"
        }
      ],
      "source": [
        "square(5)"
      ]
    },
    {
      "cell_type": "code",
      "execution_count": null,
      "metadata": {
        "id": "vpwkU4MZVqLC",
        "outputId": "22a4bb63-63a3-4ef4-9efa-0d084228068e"
      },
      "outputs": [
        {
          "name": "stdout",
          "output_type": "stream",
          "text": [
            "1\n",
            "4\n",
            "9\n",
            "16\n",
            "25\n"
          ]
        }
      ],
      "source": [
        "my_List = [1,2,3,4,5]\n",
        "for i in map(lambda num: num**2,my_List):\n",
        "    print(i)\n"
      ]
    },
    {
      "cell_type": "markdown",
      "metadata": {
        "id": "uhNgnmW3VqLE"
      },
      "source": [
        "LEGB rule\n",
        "\n",
        "L: Local - Names assigned in any way within a function(def or lambda), and not declared glbal in that function\n",
        "\n",
        "E: Enclosing function local - Names in the local scope of any and all enclosing functions(def or lambda), form innter to outer.\n",
        "\n",
        "G: Global - Names assinged at the toplevel of a module file, or declared global in a def withing the file.\n",
        "\n",
        "B: Builtin - Name preassigned in built in names module like range open etc."
      ]
    },
    {
      "cell_type": "code",
      "execution_count": null,
      "metadata": {
        "id": "y4EX_yugVqLE"
      },
      "outputs": [],
      "source": [
        "class NameOfClass():\n",
        "    '''This is just a sample format of class'''\n",
        "    def __init__(self,param1,param2):\n",
        "        self.param1 = param1\n",
        "        self.param2 = param2\n",
        "    \n",
        "    def some_mehtod(self):\n",
        "        print(self.param1)"
      ]
    },
    {
      "cell_type": "code",
      "execution_count": null,
      "metadata": {
        "id": "I1CXzOUtVqLE",
        "outputId": "a055bee1-339c-4ae5-dfd9-1a9837337298"
      },
      "outputs": [
        {
          "data": {
            "text/plain": [
              "__main__.Sample"
            ]
          },
          "execution_count": 49,
          "metadata": {},
          "output_type": "execute_result"
        }
      ],
      "source": [
        "class Sample():\n",
        "    pass\n",
        "\n",
        "my_sample = Sample()\n",
        "type(my_sample)"
      ]
    },
    {
      "cell_type": "code",
      "execution_count": null,
      "metadata": {
        "id": "ZHG9K1o0VqLF",
        "outputId": "f7ec7bed-a7f2-4386-b17f-673f4dab02fa"
      },
      "outputs": [
        {
          "name": "stdout",
          "output_type": "stream",
          "text": [
            "labro Yuthi True\n"
          ]
        }
      ],
      "source": [
        "class Dog():\n",
        "    def __init__ (self,breed,name,spots):\n",
        "        self.breed = breed\n",
        "        self.name = name\n",
        "        self.spots = spots\n",
        "\n",
        "my_dog = Dog(\"labro\",\"Yuthi\",True)\n",
        "print(my_dog.breed,my_dog.name,my_dog.spots)"
      ]
    },
    {
      "cell_type": "code",
      "execution_count": null,
      "metadata": {
        "id": "ghuBw0WlVqLH"
      },
      "outputs": [],
      "source": []
    }
  ],
  "metadata": {
    "kernelspec": {
      "display_name": "Python 3",
      "language": "python",
      "name": "python3"
    },
    "language_info": {
      "codemirror_mode": {
        "name": "ipython",
        "version": 3
      },
      "file_extension": ".py",
      "mimetype": "text/x-python",
      "name": "python",
      "nbconvert_exporter": "python",
      "pygments_lexer": "ipython3",
      "version": "3.8.10"
    },
    "orig_nbformat": 4,
    "vscode": {
      "interpreter": {
        "hash": "916dbcbb3f70747c44a77c7bcd40155683ae19c65e1c03b4aa3499c5328201f1"
      }
    },
    "colab": {
      "provenance": []
    }
  },
  "nbformat": 4,
  "nbformat_minor": 0
}